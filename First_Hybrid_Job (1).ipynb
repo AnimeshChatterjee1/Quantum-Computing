{
 "cells": [
  {
   "cell_type": "code",
   "execution_count": null,
   "id": "570febe9-43ec-493d-9a92-b733c72150d7",
   "metadata": {
    "tags": []
   },
   "outputs": [],
   "source": [
    "from braket.aws import AwsDevice ,AwsQuantumJob "
   ]
  },
  {
   "cell_type": "code",
   "execution_count": null,
   "id": "3183aa30-520c-48bd-b605-d13dca6777a3",
   "metadata": {
    "tags": []
   },
   "outputs": [],
   "source": [
    "# This cell would /should take upto 5 mins\n",
    "job = AwsQuantumJob.create(\n",
    "    device=\"arn:aws:braket:::device/quantum-simulator/amazon/sv1\",\n",
    "    source_module=\"algo_script.py\"\n",
    "    wait_untill_complete =True, )"
   ]
  },
  {
   "cell_type": "code",
   "execution_count": null,
   "id": "0dc1d138-2cf4-414f-ad65-5b71555f59ad",
   "metadata": {
    "tags": []
   },
   "outputs": [],
   "source": [
    "source_module = \"algo_script.py\"\n",
    "entry_point = \"algo_script:starting_function\""
   ]
  },
  {
   "cell_type": "code",
   "execution_count": null,
   "id": "d793f4ce-bb61-43b3-8f32-bbd2c52df1a7",
   "metadata": {
    "tags": []
   },
   "outputs": [],
   "source": [
    "job.state()"
   ]
  },
  {
   "cell_type": "code",
   "execution_count": null,
   "id": "431a23f6-b6ac-4b6c-b228-2ac899f2dfd3",
   "metadata": {},
   "outputs": [],
   "source": [
    "# incomplete"
   ]
  },
  {
   "cell_type": "code",
   "execution_count": null,
   "id": "c2ff3488-c123-4594-9377-21b9d6d9bfe8",
   "metadata": {},
   "outputs": [],
   "source": []
  },
  {
   "cell_type": "code",
   "execution_count": null,
   "id": "89d71048-8da2-4772-9b71-18398cbf2d59",
   "metadata": {},
   "outputs": [],
   "source": []
  }
 ],
 "metadata": {
  "kernelspec": {
   "display_name": "conda_braket",
   "language": "python",
   "name": "conda_braket"
  },
  "language_info": {
   "codemirror_mode": {
    "name": "ipython",
    "version": 3
   },
   "file_extension": ".py",
   "mimetype": "text/x-python",
   "name": "python",
   "nbconvert_exporter": "python",
   "pygments_lexer": "ipython3",
   "version": "3.10.12"
  }
 },
 "nbformat": 4,
 "nbformat_minor": 5
}
