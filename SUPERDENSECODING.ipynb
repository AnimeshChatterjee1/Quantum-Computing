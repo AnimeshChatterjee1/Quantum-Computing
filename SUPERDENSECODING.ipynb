{
 "cells": [
  {
   "cell_type": "code",
   "execution_count": 30,
   "id": "28c53274-f55b-43e3-a740-7a4850821b59",
   "metadata": {
    "tags": []
   },
   "outputs": [
    {
     "name": "stdout",
     "output_type": "stream",
     "text": [
      "Version: 1.56.0\n"
     ]
    }
   ],
   "source": [
    "#PRINTING VERSION OF SDK\n",
    "!pip show amazon-braket-sdk | grep Version\n",
    "\n",
    "#Import Braket Libraries\n",
    "from braket.circuits import Circuit, Gate, Moments\n",
    "from braket.circuits.instruction import Instruction \n",
    "from braket.aws import AwsDevice\n",
    "from braket.devices import LocalSimulator\n",
    "import matplotlib.pyplot as plt\n",
    "import time"
   ]
  },
  {
   "cell_type": "code",
   "execution_count": 3,
   "id": "bd08e486-5757-4bf0-8ffe-40365d813754",
   "metadata": {
    "tags": []
   },
   "outputs": [],
   "source": [
    "#  SETTING UP DEVICE : LOCAL SIMULATOR OR ON DEMAND SIMULATOR\n",
    "device = LocalSimulator()\n",
    "#for SV1 simulator\n",
    "# device = AwsDevice(\"arn:aws:braket:::device/quantum-simulator/amazon/sv1\")\n"
   ]
  },
  {
   "cell_type": "code",
   "execution_count": 4,
   "id": "3d3f0c3c-8af7-4bda-8e64-58e732e496ae",
   "metadata": {
    "tags": []
   },
   "outputs": [],
   "source": [
    "#Function to run quantum task ,check the status thereof and collect results\n",
    "def get_result(device, circ):\n",
    "    #number of qubits\n",
    "    num_qubits = circ.qubit_count\n",
    "    \n",
    "    #specifying desired result types\n",
    "    circ.probability()\n",
    "    \n",
    "    #submit quantum task : define quantum task (asynchronous)\n",
    "    if device.name == 'StateVectorSimulator':\n",
    "        task = device.run(circ, shots=1000)\n",
    "    else:\n",
    "        task = device.run(circ, shots=1000)\n",
    "        \n",
    "    #Get ID of submitted quantum task \n",
    "    task_id = task.id\n",
    "    print(\"TASK ID\" ,task_id)\n",
    "    \n",
    "    #Wait for the job to complete\n",
    "    status_list = []\n",
    "    status = task.state()\n",
    "    print(\"isko hatao\",status)\n",
    "    status_list +=[status]\n",
    "    print('Status:',status)\n",
    "    \n",
    "    #Only notify the user when there's a status change\n",
    "    while status !='COMPLETED':\n",
    "        status = task.state()\n",
    "        if status!=status_list[-1]:\n",
    "            print('Status :',status)\n",
    "        status_list += [status]\n",
    "        \n",
    "    #get result\n",
    "    result = task.result()\n",
    "    \n",
    "    #get metadata\n",
    "    metadata = result.task_metadata\n",
    "    \n",
    "    #get output probabilities\n",
    "    probs_values = result.values[0]\n",
    "    \n",
    "    #get measurement results\n",
    "    measurement_counts = result.measurement_counts\n",
    "    \n",
    "    # print measurement results\n",
    "    print('measurement_counts:', measurement_counts)\n",
    "    \n",
    "    #bitstrings\n",
    "    print('measurement_counts:', measurement_counts)\n",
    "\n",
    "    # bitstrings\n",
    "    format_bitstring = '{0:0' + str(num_qubits) + 'b}'\n",
    "    bitstring_keys = [format_bitstring.format(ii) for ii in range(2**num_qubits)]\n",
    "\n",
    "    # plot probabalities\n",
    "    plt.bar(bitstring_keys, probs_values)\n",
    "    plt.xlabel('bitstrings')\n",
    "    plt.ylabel('probability')\n",
    "    plt.xticks(rotation=90)\n",
    "    plt.show() \n",
    "    \n",
    "    return measurement_counts"
   ]
  },
  {
   "cell_type": "code",
   "execution_count": 5,
   "id": "4b655cac-44d7-4644-af41-82d9a9ca6f11",
   "metadata": {
    "tags": []
   },
   "outputs": [
    {
     "data": {
      "text/plain": [
       "' CREATING  A BELL PAIR'"
      ]
     },
     "execution_count": 5,
     "metadata": {},
     "output_type": "execute_result"
    }
   ],
   "source": [
    "''' CREATING  A BELL PAIR'''"
   ]
  },
  {
   "cell_type": "code",
   "execution_count": 6,
   "id": "6b97347d-8b7d-40fa-9e56-30730fc033a4",
   "metadata": {
    "tags": []
   },
   "outputs": [
    {
     "data": {
      "text/plain": [
       "Circuit('instructions': [Instruction('operator': H('qubit_count': 1), 'target': QubitSet([Qubit(0)]), 'control': QubitSet([]), 'control_state': (), 'power': 1), Instruction('operator': CNot('qubit_count': 2), 'target': QubitSet([Qubit(0), Qubit(1)]), 'control': QubitSet([]), 'control_state': (), 'power': 1)])"
      ]
     },
     "execution_count": 6,
     "metadata": {},
     "output_type": "execute_result"
    }
   ],
   "source": [
    "circ = Circuit()\n",
    "circ.h([0])\n",
    "circ.cnot(0,1)  "
   ]
  },
  {
   "cell_type": "code",
   "execution_count": 9,
   "id": "f80af639-e90a-4aad-840d-431fb8ac7b34",
   "metadata": {
    "tags": []
   },
   "outputs": [
    {
     "data": {
      "text/plain": [
       "\"Define Sender's encoding scheme according to the table above.  Sender selects one of these messages to send.   \""
      ]
     },
     "execution_count": 9,
     "metadata": {},
     "output_type": "execute_result"
    }
   ],
   "source": [
    "'''Define Sender's encoding scheme according to the table above.  Sender selects one of these messages to send.   ''' "
   ]
  },
  {
   "cell_type": "code",
   "execution_count": 18,
   "id": "56a57c3c-c8c3-443f-8a3b-17a43a76e798",
   "metadata": {
    "tags": []
   },
   "outputs": [],
   "source": [
    "message = {\"00\" : Circuit().i(0),\n",
    "           \"01\" : Circuit().x(0),\n",
    "           \"10\" : Circuit().z(0),\n",
    "           \"11\" : Circuit().x(0).z(0)\n",
    "          }"
   ]
  },
  {
   "cell_type": "code",
   "execution_count": 11,
   "id": "0dbaa953-a2d4-4caf-9fcb-1ba442173bb1",
   "metadata": {
    "tags": []
   },
   "outputs": [
    {
     "data": {
      "text/plain": [
       "' SENDER ENCODES HER MESSAGE BY APPLYINH THE GATES DEFINED ABOVE'"
      ]
     },
     "execution_count": 11,
     "metadata": {},
     "output_type": "execute_result"
    }
   ],
   "source": [
    "''' SENDER ENCODES HER MESSAGE BY APPLYINH THE GATES DEFINED ABOVE'''"
   ]
  },
  {
   "cell_type": "code",
   "execution_count": 24,
   "id": "751ebc3c-f466-4dd0-affc-9811fb4eb99a",
   "metadata": {
    "tags": []
   },
   "outputs": [
    {
     "data": {
      "text/plain": [
       "Circuit('instructions': [Instruction('operator': H('qubit_count': 1), 'target': QubitSet([Qubit(0)]), 'control': QubitSet([]), 'control_state': (), 'power': 1), Instruction('operator': CNot('qubit_count': 2), 'target': QubitSet([Qubit(0), Qubit(1)]), 'control': QubitSet([]), 'control_state': (), 'power': 1), Instruction('operator': X('qubit_count': 1), 'target': QubitSet([Qubit(0)]), 'control': QubitSet([]), 'control_state': (), 'power': 1), Instruction('operator': CNot('qubit_count': 2), 'target': QubitSet([Qubit(0), Qubit(1)]), 'control': QubitSet([]), 'control_state': (), 'power': 1), Instruction('operator': H('qubit_count': 1), 'target': QubitSet([Qubit(0)]), 'control': QubitSet([]), 'control_state': (), 'power': 1), Instruction('operator': X('qubit_count': 1), 'target': QubitSet([Qubit(0)]), 'control': QubitSet([]), 'control_state': (), 'power': 1), Instruction('operator': Z('qubit_count': 1), 'target': QubitSet([Qubit(0)]), 'control': QubitSet([]), 'control_state': (), 'power': 1), Instruction('operator': X('qubit_count': 1), 'target': QubitSet([Qubit(0)]), 'control': QubitSet([]), 'control_state': (), 'power': 1), Instruction('operator': Z('qubit_count': 1), 'target': QubitSet([Qubit(0)]), 'control': QubitSet([]), 'control_state': (), 'power': 1)])"
      ]
     },
     "execution_count": 24,
     "metadata": {},
     "output_type": "execute_result"
    }
   ],
   "source": [
    "# Selecting the message to send in AB form\n",
    "m = \"11\"\n",
    "# Encoding the message\n",
    "circ.add_circuit(message[m])\n"
   ]
  },
  {
   "cell_type": "code",
   "execution_count": 20,
   "id": "10b36fa6-cd1b-4dc4-bc29-b0aa26aec2a7",
   "metadata": {
    "tags": []
   },
   "outputs": [
    {
     "data": {
      "text/plain": [
       "\" SENDER THEN SENDS HER QUBIT TO RECEIVER SO THAT RECEIVER HAS BOTH QUBITS IN HIS LAB . RECEIVER DECODES SENDER'S MESSAGE BY DISENTANGLING THE TWO QUBITS\""
      ]
     },
     "execution_count": 20,
     "metadata": {},
     "output_type": "execute_result"
    }
   ],
   "source": [
    "''' SENDER THEN SENDS HER QUBIT TO RECEIVER SO THAT RECEIVER HAS BOTH QUBITS IN HIS LAB . RECEIVER DECODES SENDER'S MESSAGE BY DISENTANGLING THE TWO QUBITS'''"
   ]
  },
  {
   "cell_type": "code",
   "execution_count": 25,
   "id": "b262eba7-ed32-419c-87d9-630e490a940f",
   "metadata": {
    "tags": []
   },
   "outputs": [
    {
     "data": {
      "text/plain": [
       "Circuit('instructions': [Instruction('operator': H('qubit_count': 1), 'target': QubitSet([Qubit(0)]), 'control': QubitSet([]), 'control_state': (), 'power': 1), Instruction('operator': CNot('qubit_count': 2), 'target': QubitSet([Qubit(0), Qubit(1)]), 'control': QubitSet([]), 'control_state': (), 'power': 1), Instruction('operator': X('qubit_count': 1), 'target': QubitSet([Qubit(0)]), 'control': QubitSet([]), 'control_state': (), 'power': 1), Instruction('operator': CNot('qubit_count': 2), 'target': QubitSet([Qubit(0), Qubit(1)]), 'control': QubitSet([]), 'control_state': (), 'power': 1), Instruction('operator': H('qubit_count': 1), 'target': QubitSet([Qubit(0)]), 'control': QubitSet([]), 'control_state': (), 'power': 1), Instruction('operator': X('qubit_count': 1), 'target': QubitSet([Qubit(0)]), 'control': QubitSet([]), 'control_state': (), 'power': 1), Instruction('operator': Z('qubit_count': 1), 'target': QubitSet([Qubit(0)]), 'control': QubitSet([]), 'control_state': (), 'power': 1), Instruction('operator': X('qubit_count': 1), 'target': QubitSet([Qubit(0)]), 'control': QubitSet([]), 'control_state': (), 'power': 1), Instruction('operator': Z('qubit_count': 1), 'target': QubitSet([Qubit(0)]), 'control': QubitSet([]), 'control_state': (), 'power': 1), Instruction('operator': CNot('qubit_count': 2), 'target': QubitSet([Qubit(0), Qubit(1)]), 'control': QubitSet([]), 'control_state': (), 'power': 1), Instruction('operator': H('qubit_count': 1), 'target': QubitSet([Qubit(0)]), 'control': QubitSet([]), 'control_state': (), 'power': 1)])"
      ]
     },
     "execution_count": 25,
     "metadata": {},
     "output_type": "execute_result"
    }
   ],
   "source": [
    "# DISENTANGLING TO DECODE \n",
    "circ.cnot(0,1)\n",
    "circ.h([0])"
   ]
  },
  {
   "cell_type": "code",
   "execution_count": 26,
   "id": "0e2c9ff8-4fe4-4de8-b1ff-24e83faccbf0",
   "metadata": {
    "tags": []
   },
   "outputs": [
    {
     "name": "stdout",
     "output_type": "stream",
     "text": [
      "T  : |0|1|2|3|4|5|6|7|8|9|10|\n",
      "                             \n",
      "q0 : -H-C-X-C-H-X-Z-X-Z-C-H--\n",
      "        |   |           |    \n",
      "q1 : ---X---X-----------X----\n",
      "\n",
      "T  : |0|1|2|3|4|5|6|7|8|9|10|\n"
     ]
    }
   ],
   "source": [
    "print(circ)"
   ]
  },
  {
   "cell_type": "code",
   "execution_count": null,
   "id": "13d9cb88-b398-468d-9f6f-6d40fbb26da8",
   "metadata": {},
   "outputs": [],
   "source": [
    "'''By measuring the two qubits in the computational basis, The receiver can read off Sender's two qubit message"
   ]
  },
  {
   "cell_type": "code",
   "execution_count": 27,
   "id": "5172fec5-ce0a-42e4-b1b9-67ddf5b67f14",
   "metadata": {
    "tags": []
   },
   "outputs": [
    {
     "name": "stdout",
     "output_type": "stream",
     "text": [
      "TASK ID c4f137ea-b62d-455c-a450-984c27a17de2\n",
      "isko hatao COMPLETED\n",
      "Status: COMPLETED\n",
      "measurement_counts: Counter({'01': 503, '11': 497})\n",
      "measurement_counts: Counter({'01': 503, '11': 497})\n"
     ]
    },
    {
     "data": {
      "image/png": "[encoded data removed]",
      "text/plain": [
       "<Figure size 640x480 with 1 Axes>"
      ]
     },
     "metadata": {},
     "output_type": "display_data"
    },
    {
     "name": "stdout",
     "output_type": "stream",
     "text": [
      "Counter({'01': 503, '11': 497})\n"
     ]
    }
   ],
   "source": [
    "counts = get_result(device,circ)\n",
    "print(counts)"
   ]
  },
  {
   "cell_type": "code",
   "execution_count": 28,
   "id": "bdd69352-7a61-4470-ad31-b9ff92de2f4c",
   "metadata": {
    "tags": []
   },
   "outputs": [
    {
     "name": "stdout",
     "output_type": "stream",
     "text": [
      "TASK ID bca673e7-c896-40fa-aa70-2493153c9612\n",
      "isko hatao COMPLETED\n",
      "Status: COMPLETED\n",
      "measurement_counts: Counter({'00': 1000})\n",
      "measurement_counts: Counter({'00': 1000})\n"
     ]
    },
    {
     "data": {
      "image/png": "[encoded data removed]",
      "text/plain": [
       "<Figure size 640x480 with 1 Axes>"
      ]
     },
     "metadata": {},
     "output_type": "display_data"
    },
    {
     "name": "stdout",
     "output_type": "stream",
     "text": [
      "Message: 00. Results: \n",
      "Counter({'00': 1000})\n",
      "TASK ID 6f68c8dc-ccbe-4745-98f6-3fc0aeb6542a\n",
      "isko hatao COMPLETED\n",
      "Status: COMPLETED\n",
      "measurement_counts: Counter({'01': 1000})\n",
      "measurement_counts: Counter({'01': 1000})\n"
     ]
    },
    {
     "data": {
      "image/png": "[encoded data removed]",
      "text/plain": [
       "<Figure size 640x480 with 1 Axes>"
      ]
     },
     "metadata": {},
     "output_type": "display_data"
    },
    {
     "name": "stdout",
     "output_type": "stream",
     "text": [
      "Message: 01. Results: \n",
      "Counter({'01': 1000})\n",
      "TASK ID f547b3d8-034c-4f83-ba3f-e2a1bc5ef81e\n",
      "isko hatao COMPLETED\n",
      "Status: COMPLETED\n",
      "measurement_counts: Counter({'10': 1000})\n",
      "measurement_counts: Counter({'10': 1000})\n"
     ]
    },
    {
     "data": {
      "image/png": "[encoded data removed]",
      "text/plain": [
       "<Figure size 640x480 with 1 Axes>"
      ]
     },
     "metadata": {},
     "output_type": "display_data"
    },
    {
     "name": "stdout",
     "output_type": "stream",
     "text": [
      "Message: 10. Results: \n",
      "Counter({'10': 1000})\n",
      "TASK ID 3fdf4659-fc99-4897-9b17-327caa17a666\n",
      "isko hatao COMPLETED\n",
      "Status: COMPLETED\n",
      "measurement_counts: Counter({'11': 1000})\n",
      "measurement_counts: Counter({'11': 1000})\n"
     ]
    },
    {
     "data": {
      "image/png": "[encoded data removed]",
      "text/plain": [
       "<Figure size 640x480 with 1 Axes>"
      ]
     },
     "metadata": {},
     "output_type": "display_data"
    },
    {
     "name": "stdout",
     "output_type": "stream",
     "text": [
      "Message: 11. Results: \n",
      "Counter({'11': 1000})\n"
     ]
    }
   ],
   "source": [
    "for m in message:\n",
    "    #reproducing the full circuit above by concatenating all of the gates :\n",
    "    newcirc = Circuit().h([0]).cnot(0,1).add_circuit(message[m]).cnot(0,1).h([0])\n",
    "    \n",
    "    #Run the circuit:\n",
    "    counts = get_result(device , newcirc)\n",
    "    \n",
    "    print(\"Message: \" +m + \". Results: \")\n",
    "    print(counts)"
   ]
  },
  {
   "cell_type": "code",
   "execution_count": null,
   "id": "dc40bda5-7a28-43af-b88e-64267c6f851f",
   "metadata": {
    "tags": []
   },
   "outputs": [],
   "source": []
  },
  {
   "cell_type": "code",
   "execution_count": null,
   "id": "1a8cfd22-7d66-4313-b013-4636cf5caf81",
   "metadata": {},
   "outputs": [],
   "source": []
  }
 ],
 "metadata": {
  "kernelspec": {
   "display_name": "conda_braket",
   "language": "python",
   "name": "conda_braket"
  },
  "language_info": {
   "codemirror_mode": {
    "name": "ipython",
    "version": 3
   },
   "file_extension": ".py",
   "mimetype": "text/x-python",
   "name": "python",
   "nbconvert_exporter": "python",
   "pygments_lexer": "ipython3",
   "version": "3.10.12"
  }
 },
 "nbformat": 4,
 "nbformat_minor": 5
}
