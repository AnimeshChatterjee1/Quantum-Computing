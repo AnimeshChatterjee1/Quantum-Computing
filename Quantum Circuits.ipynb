{
 "cells": [
  {
   "cell_type": "code",
   "execution_count": 87,
   "id": "fad11076-f053-41db-9a77-575fd7b45cf7",
   "metadata": {
    "tags": []
   },
   "outputs": [],
   "source": [
    "#Diving deep into quantum circuits\n",
    "#importing libraries \n",
    "import asyncio # a library to write concurrent code using the async/await syntax.\n",
    "import matplotlib.pyplot as plt\n",
    "#magic word for producing visualizations in notebook\n",
    "%matplotlib inline\n",
    "import string\n",
    "from datetime import datetime\n",
    "import logging #to store information about your script and track events that occur\n",
    "\n",
    "\n",
    "#AWS imports : Importing braket SDK modules\n",
    "from braket.circuits import Circuit,Gate,Instruction, circuit, Observable,FreeParameter\n",
    "from braket.circuits.serialization import IRType #The IR format is used to represent the circuit in a way that can be easily translated to other formats, such as OpenQASM, which is a widely used quantum assembly language.\n",
    "from braket.aws import AwsDevice,AwsQuantumTask\n",
    "from braket.devices import LocalSimulator "
   ]
  },
  {
   "cell_type": "code",
   "execution_count": 88,
   "id": "783aeeb1-29af-466e-a04c-4ef484feb149",
   "metadata": {
    "tags": []
   },
   "outputs": [
    {
     "name": "stdout",
     "output_type": "stream",
     "text": [
      "T  : |0| 1 |\n",
      "            \n",
      "q0 : -H-C---\n",
      "        |   \n",
      "q1 : -H-|-C-\n",
      "        | | \n",
      "q2 : -H-X-|-\n",
      "          | \n",
      "q3 : -H---X-\n",
      "\n",
      "T  : |0| 1 |\n"
     ]
    }
   ],
   "source": [
    "#DEFINING A CIRCUIT WITH 4 QUBITS\n",
    "my_circuit = Circuit().h(range(4)).cnot(control=0,target = 2).cnot(1,3)\n",
    "print(my_circuit)"
   ]
  },
  {
   "cell_type": "code",
   "execution_count": 89,
   "id": "f208b0b6-45c9-4c59-9268-88ca78192fa8",
   "metadata": {
    "tags": []
   },
   "outputs": [
    {
     "name": "stdout",
     "output_type": "stream",
     "text": [
      "MomentsKey(time=0, qubits=QubitSet([Qubit(0)]), moment_type=<MomentType.GATE: 'gate'>, noise_index=0)\n",
      "MomentsKey(time=0, qubits=QubitSet([Qubit(1)]), moment_type=<MomentType.GATE: 'gate'>, noise_index=0)\n",
      "MomentsKey(time=0, qubits=QubitSet([Qubit(2)]), moment_type=<MomentType.GATE: 'gate'>, noise_index=0)\n",
      "MomentsKey(time=0, qubits=QubitSet([Qubit(3)]), moment_type=<MomentType.GATE: 'gate'>, noise_index=0)\n",
      "MomentsKey(time=1, qubits=QubitSet([Qubit(0), Qubit(2)]), moment_type=<MomentType.GATE: 'gate'>, noise_index=0)\n",
      "MomentsKey(time=1, qubits=QubitSet([Qubit(1), Qubit(3)]), moment_type=<MomentType.GATE: 'gate'>, noise_index=0)\n"
     ]
    }
   ],
   "source": [
    "# show moments of our quantum circuit\n",
    "my_moments = my_circuit.moments\n",
    "for moment in my_moments:\n",
    "    print(moment)"
   ]
  },
  {
   "cell_type": "code",
   "execution_count": 90,
   "id": "e13b9ed0-34ba-4719-ab48-aa01ab7341e3",
   "metadata": {
    "tags": []
   },
   "outputs": [
    {
     "name": "stdout",
     "output_type": "stream",
     "text": [
      "Instruction('operator': H('qubit_count': 1), 'target': QubitSet([Qubit(0)]), 'control': QubitSet([]), 'control_state': (), 'power': 1)\n",
      "Instruction('operator': H('qubit_count': 1), 'target': QubitSet([Qubit(1)]), 'control': QubitSet([]), 'control_state': (), 'power': 1)\n",
      "Instruction('operator': H('qubit_count': 1), 'target': QubitSet([Qubit(2)]), 'control': QubitSet([]), 'control_state': (), 'power': 1)\n",
      "Instruction('operator': H('qubit_count': 1), 'target': QubitSet([Qubit(3)]), 'control': QubitSet([]), 'control_state': (), 'power': 1)\n",
      "Instruction('operator': CNot('qubit_count': 2), 'target': QubitSet([Qubit(0), Qubit(2)]), 'control': QubitSet([]), 'control_state': (), 'power': 1)\n",
      "Instruction('operator': CNot('qubit_count': 2), 'target': QubitSet([Qubit(1), Qubit(3)]), 'control': QubitSet([]), 'control_state': (), 'power': 1)\n"
     ]
    }
   ],
   "source": [
    "# list all instructions/gates making up our circuit\n",
    "my_instructions = my_circuit.instructions\n",
    "for instruction in my_instructions:\n",
    "    print(instruction)"
   ]
  },
  {
   "cell_type": "code",
   "execution_count": 91,
   "id": "e8d58352-2d11-4540-81c7-6890446c65f6",
   "metadata": {
    "tags": []
   },
   "outputs": [
    {
     "name": "stdout",
     "output_type": "stream",
     "text": [
      "T  : |   0    | 1 |2|\n",
      "                     \n",
      "q0 : -Rx(0.15)-C-----\n",
      "               |     \n",
      "q1 : -Ry(0.20)-|-C-X-\n",
      "               | |   \n",
      "q2 : -Rz(0.25)-X-|---\n",
      "                 |   \n",
      "q3 : -H----------X-X-\n",
      "\n",
      "T  : |   0    | 1 |2|\n"
     ]
    }
   ],
   "source": [
    "#Defining the circuit with parameterized gates\n",
    "my_circuit =Circuit().rx(0,0.15).ry(1,0.2).rz(2,0.25).h(3).cnot(control=0,target=2).cnot(1,3).x([1,3])\n",
    "print(my_circuit)"
   ]
  },
  {
   "cell_type": "code",
   "execution_count": 92,
   "id": "1785c33b-c0c5-431d-bf54-4c4848b32b11",
   "metadata": {
    "tags": []
   },
   "outputs": [
    {
     "name": "stdout",
     "output_type": "stream",
     "text": [
      "T  : |    0    | 1 |2|\n",
      "                      \n",
      "q0 : -Rx(alpha)-C-----\n",
      "                |     \n",
      "q1 : -Ry(beta)--|-C-X-\n",
      "                | |   \n",
      "q2 : -Rz(gamma)-X-|---\n",
      "                  |   \n",
      "q3 : -H-----------X-X-\n",
      "\n",
      "T  : |    0    | 1 |2|\n",
      "\n",
      "Unassigned parameters: [alpha, beta, gamma].\n"
     ]
    }
   ],
   "source": [
    "#designing gates with free parameters and and free parameters\n",
    "alpha = FreeParameter('alpha')\n",
    "beta = FreeParameter('beta')\n",
    "gamma = FreeParameter('gamma')\n",
    "my_circuit = Circuit().rx(0, alpha).ry(1,beta).rz(2,gamma).h(3).cnot(0,2).cnot(1,3).x([1,3])\n",
    "print(my_circuit)"
   ]
  },
  {
   "cell_type": "code",
   "execution_count": 93,
   "id": "34fc1463-ddd0-41e5-9d4a-df803d606f6b",
   "metadata": {
    "tags": []
   },
   "outputs": [
    {
     "name": "stdout",
     "output_type": "stream",
     "text": [
      "['CCNot', 'CNot', 'CPhaseShift', 'CPhaseShift00', 'CPhaseShift01', 'CPhaseShift10', 'CSwap', 'CV', 'CY', 'CZ', 'ECR', 'GPi', 'GPi2', 'H', 'I', 'ISwap', 'MS', 'PSwap', 'PhaseShift', 'PulseGate', 'Rx', 'Ry', 'Rz', 'S', 'Si', 'Swap', 'T', 'Ti', 'Unitary', 'V', 'Vi', 'X', 'XX', 'XY', 'Y', 'YY', 'Z', 'ZZ']\n"
     ]
    }
   ],
   "source": [
    "#Printing all available gates currently available within SDK\n",
    "gate_set=[attr for attr in dir(Gate) if attr[0] in string.ascii_uppercase]\n",
    "print(gate_set)"
   ]
  },
  {
   "cell_type": "code",
   "execution_count": 94,
   "id": "ff4e816b-95a5-46db-9979-2b58b0036e49",
   "metadata": {},
   "outputs": [],
   "source": [
    "#HELPER function to build a custom gate \n",
    "def u3(alpha,theta,phi):\n",
    "    \"\"\"\"\n",
    "     function to return matrix for general single qubit rotation\n",
    "    rotation is given by exp(-i sigma*n/2*alpha) where alpha is rotation angle\n",
    "    and n defines rotation axis as n=(sin(theta)cos(phi), sin(theta)sin(phi), cos(theta))\n",
    "    sigma is vector of Pauli matrices\n",
    "    \"\"\"\n",
    "    u11 = np.cos(alpha/2)-1j*np.sin(alpha/2)*np.cos(theta)\n",
    "    u12 = -1j*(np.exp(-1j*phi))*np.sin(theta)*np.sin(alpha/2)\n",
    "    u21 = -1j*(np.exp(1j*phi))*np.sin(theta)*np.sin(alpha/2)\n",
    "    u22 = np.cos(alpha/2)+1j*np.sin(alpha/2)*np.cos(theta)\n",
    "    \n",
    "    return np.array([[u11 , u12], [u21 ,u22]])\n"
   ]
  },
  {
   "cell_type": "code",
   "execution_count": 95,
   "id": "31ac8020-64e8-4456-aecd-b2ce05632f19",
   "metadata": {
    "tags": []
   },
   "outputs": [
    {
     "name": "stdout",
     "output_type": "stream",
     "text": [
      "[[0.70710678-0.70710678j 0.        +0.j        ]\n",
      " [0.        +0.j         0.70710678+0.70710678j]]\n",
      "\n",
      "T  : |0|1|\n",
      "          \n",
      "q0 : -U-C-\n",
      "        | \n",
      "q1 : -H-X-\n",
      "\n",
      "T  : |0|1|\n"
     ]
    }
   ],
   "source": [
    "# define the print custom unitary \n",
    "import numpy as np\n",
    "my_u3 = u3(np.pi/2, 0, 0)\n",
    "print(my_u3)\n",
    "\n",
    "#example circuit applying custom U to the first qubit\n",
    "circ = Circuit().unitary(matrix = my_u3, targets=[0]).h(1).cnot(0,1)\n",
    "print()\n",
    "print(circ)"
   ]
  },
  {
   "cell_type": "code",
   "execution_count": 96,
   "id": "ef472ecf-d46c-4b97-983f-0232709ea307",
   "metadata": {
    "tags": []
   },
   "outputs": [],
   "source": [
    "#helper function to build custom gate \n",
    "@circuit.subroutine(register=True) # it's a subroutine and @ is called decorator for modifying the subroutine\n",
    "\n",
    "def u3(target,angles):\n",
    "    \"\"\"\n",
    "    Function to return the matrix for a general single qubit rotation,\n",
    "    given by exp(-i sigma*n/2*alpha), where alpha is the rotation angle,\n",
    "    n defines the rotation axis via n=(sin(theta)cos(phi), sin(theta)sin(phi), cos(theta)),\n",
    "    and sigma is the vector of Pauli matrices\n",
    "    \"\"\"\n",
    "    #get angles\n",
    "    alpha = angles[0]\n",
    "    theta = angles[1]\n",
    "    phi = angles[2]\n",
    "    \n",
    "    #set 2x2 matrix entries\n",
    "    u11 = np.cos(alpha/2)-1j*np.sin(alpha/2)*np.cos(theta)\n",
    "    u12 = -1j*(np.exp(-1j*phi))*np.sin(theta)*np.sin(alpha/2)\n",
    "    u21 = -1j*(np.exp(1j*phi))*np.sin(theta)*np.sin(alpha/2)\n",
    "    u22 = np.cos(alpha/2)+1j*np.sin(alpha/2)*np.cos(theta)\n",
    "\n",
    "    #define unitary as numpy matrix\n",
    "    u = np.array([[u11,u12], [u21,u22]])\n",
    "    print('Unitary: ', u)\n",
    "    print()\n",
    "    print()\n",
    "    \n",
    "    #define custom Braket gate \n",
    "    circ = Circuit()\n",
    "    circ.unitary(matrix=u, targets=target)\n",
    "    \n",
    "    return circ\n",
    "    \n",
    "    "
   ]
  },
  {
   "cell_type": "code",
   "execution_count": null,
   "id": "667a3525-a047-4a7e-be68-f95929933041",
   "metadata": {},
   "outputs": [],
   "source": []
  },
  {
   "cell_type": "code",
   "execution_count": null,
   "id": "e61a95b7-bb7c-4f5f-9be2-f73456704d11",
   "metadata": {},
   "outputs": [],
   "source": []
  },
  {
   "cell_type": "code",
   "execution_count": 97,
   "id": "a6385db9-b119-4de5-849e-b93e6edaa5bc",
   "metadata": {
    "tags": []
   },
   "outputs": [
    {
     "name": "stdout",
     "output_type": "stream",
     "text": [
      "Unitary:  [[0.92387953-0.38268343j 0.        +0.j        ]\n",
      " [0.        +0.j         0.92387953+0.38268343j]]\n",
      "\n",
      "\n",
      "T  : |0|1|\n",
      "          \n",
      "q0 : -U-C-\n",
      "        | \n",
      "q1 : ---X-\n",
      "\n",
      "T  : |0|1|\n"
     ]
    }
   ],
   "source": [
    "# define example circuit applying custom single-qubit gate U to the first qubit\n",
    "angles = [np.pi/2, np.pi/2, np.pi/2]\n",
    "angles = [np.pi/4, 0, 0]\n",
    "\n",
    "# build circuit using custom u3 gate\n",
    "circ2 = Circuit().u3([0], angles).cnot(0,1)\n",
    "print(circ2)"
   ]
  },
  {
   "cell_type": "code",
   "execution_count": 98,
   "id": "c96870e9-fd24-4a3e-83e4-38d7a54e01c6",
   "metadata": {
    "tags": []
   },
   "outputs": [
    {
     "name": "stdout",
     "output_type": "stream",
     "text": [
      "T  : |   0    | 1 |2|\n",
      "                     \n",
      "q0 : -Rx(0.15)-C---X-\n",
      "               |     \n",
      "q1 : -Ry(0.20)-|-C---\n",
      "               | |   \n",
      "q2 : -Rz(0.25)-X-|---\n",
      "                 |   \n",
      "q3 : -H----------X---\n",
      "\n",
      "T  : |   0    | 1 |2|\n",
      "\n",
      "Total circuit depth: 3\n"
     ]
    }
   ],
   "source": [
    "#CIRCUIT DEPTH AND CIRCUIT SIZE\n",
    "#We can get the circuit depth (the number of moments defining our circuit) with ```circuit.depth``` \n",
    "\n",
    "#DEFINING CIRCUIT WITH PARAMETRIZED GATES\n",
    "my_circuit = Circuit().rx(0,0.15).ry(1,0.2).rz(2, 0.25).h(3).cnot(0,2).cnot(1,3).x(0)\n",
    "circuit_depth = my_circuit.depth\n",
    "print(my_circuit)\n",
    "print()\n",
    "print('Total circuit depth:', circuit_depth)\n"
   ]
  },
  {
   "cell_type": "code",
   "execution_count": 99,
   "id": "a4de5ffe-28ea-4a29-8a9b-e0e2099553b3",
   "metadata": {
    "tags": []
   },
   "outputs": [
    {
     "name": "stdout",
     "output_type": "stream",
     "text": [
      "T  : |   0    | 1 |\n",
      "                   \n",
      "q0 : -Rx(0.15)-C---\n",
      "               |   \n",
      "q1 : -Ry(0.20)-|-C-\n",
      "               | | \n",
      "q2 : -Rz(0.25)-X-|-\n",
      "                 | \n",
      "q3 : -H----------X-\n",
      "                   \n",
      "q4 : -X------------\n",
      "\n",
      "T  : |   0    | 1 |\n",
      "\n",
      "Total circuit depth: 2\n",
      "Number of qubits: 5\n",
      "Circuit size: 10\n"
     ]
    }
   ],
   "source": [
    "# defining circuit with parameterized gates \n",
    "my_circuit = Circuit().rx(0, 0.15).ry(1, 0.2).rz(2, 0.25).h(3).cnot(control=0, target=2).cnot(1, 3).x(4)\n",
    "# getting circuit depth\n",
    "circuit_depth = my_circuit.depth\n",
    "# get qubit number\n",
    "qubit_count = my_circuit.qubit_count\n",
    "# getting approx. estimate of circuit size\n",
    "circuit_size = circuit_depth*qubit_count\n",
    "# printing circuit\n",
    "print(my_circuit)\n",
    "print()\n",
    "# printing characteristics of our circuit\n",
    "print('Total circuit depth:', circuit_depth)\n",
    "print('Number of qubits:', qubit_count)\n",
    "print('Circuit size:', circuit_size)"
   ]
  },
  {
   "cell_type": "markdown",
   "id": "ad73adb9-61a7-461b-87b7-6dabd5c77b96",
   "metadata": {},
   "source": [
    "                                      APPENDING CIRCUITS\n",
    "We can extend existing circuits by adding instructions or just appending circuits to each other, as shown below. In the most simple and straightforward fashion we can just append gates to existing circuits (for example, ```my_circuit.y(4)```). "
   ]
  },
  {
   "cell_type": "code",
   "execution_count": 100,
   "id": "fd48d367-0fc5-4f07-851f-65df25ec6f77",
   "metadata": {
    "tags": []
   },
   "outputs": [
    {
     "name": "stdout",
     "output_type": "stream",
     "text": [
      "T  : |   0    | 1 |\n",
      "                   \n",
      "q0 : -Rx(0.15)-C---\n",
      "               |   \n",
      "q1 : -Ry(0.20)-|-C-\n",
      "               | | \n",
      "q2 : -Rz(0.25)-X-|-\n",
      "                 | \n",
      "q3 : -H----------X-\n",
      "                   \n",
      "q4 : -X--------Y---\n",
      "\n",
      "T  : |   0    | 1 |\n",
      "\n",
      "Total circuit depth: 2\n",
      "Number of qubits: 5\n",
      "Circuit size: 10\n"
     ]
    }
   ],
   "source": [
    "#SIMPLE CIRCUIT EXPTENSION BY APPENDING GATES ( Y ON QUBIT 4)\n",
    "my_circuit = my_circuit.y(4)\n",
    "# updating circuit depth , circuit count , circuit size\n",
    "circuit_depth = my_circuit.depth\n",
    "qubit_count = my_circuit.qubit_count\n",
    "\n",
    "circuit_size = circuit_depth*qubit_count\n",
    "print(my_circuit)\n",
    "print()\n",
    "print('Total circuit depth:', circuit_depth)\n",
    "print('Number of qubits:', qubit_count)\n",
    "print('Circuit size:', circuit_size)"
   ]
  },
  {
   "cell_type": "code",
   "execution_count": 101,
   "id": "5f354611-85f9-4ef2-8b48-d328b8d5d441",
   "metadata": {
    "tags": []
   },
   "outputs": [],
   "source": [
    "#Alternatively, we can define a gate as an Instruction and use the add_instruction(...) \n",
    "#method to add this gate to an existing circuit object.\n"
   ]
  },
  {
   "cell_type": "code",
   "execution_count": 102,
   "id": "bf20ffce-49b5-4bdf-834c-868cdfc6ff58",
   "metadata": {
    "tags": []
   },
   "outputs": [
    {
     "name": "stdout",
     "output_type": "stream",
     "text": [
      "T  : |   0    | 1 |2|\n",
      "                     \n",
      "q0 : -Rx(0.15)-C---C-\n",
      "               |   | \n",
      "q1 : -Ry(0.20)-|-C-X-\n",
      "               | |   \n",
      "q2 : -Rz(0.25)-X-|---\n",
      "                 |   \n",
      "q3 : -H----------X---\n",
      "                     \n",
      "q4 : -X--------Y-----\n",
      "\n",
      "T  : |   0    | 1 |2|\n",
      "\n",
      "Total circuit depth: 3\n",
      "Number of qubits: 5\n",
      "Circuit size: 15\n"
     ]
    }
   ],
   "source": [
    "    # INSTRUCTION TO CIRCUIT\n",
    "    gate_instr = Instruction(Gate.CNot(),[0,1])\n",
    "    my_circuit = my_circuit.add_instruction(gate_instr)\n",
    "    # updating circuit depth , circuit count , circuit size\n",
    "    circuit_depth = my_circuit.depth\n",
    "    qubit_count = my_circuit.qubit_count\n",
    "\n",
    "    circuit_size = circuit_depth*qubit_count\n",
    "    print(my_circuit)\n",
    "    print()\n",
    "    print('Total circuit depth:', circuit_depth)\n",
    "    print('Number of qubits:', qubit_count)\n",
    "    print('Circuit size:', circuit_size)"
   ]
  },
  {
   "cell_type": "code",
   "execution_count": 103,
   "id": "21d4cca2-8330-46f2-95e6-19e210e7534e",
   "metadata": {
    "tags": []
   },
   "outputs": [
    {
     "name": "stdout",
     "output_type": "stream",
     "text": [
      "T  : |   0    | 1 |2|3|\n",
      "                       \n",
      "q0 : -Rx(0.15)-C---C-C-\n",
      "               |   | | \n",
      "q1 : -Ry(0.20)-|-C-X-X-\n",
      "               | |     \n",
      "q2 : -Rz(0.25)-X-|-----\n",
      "                 |     \n",
      "q3 : -H----------X-----\n",
      "                       \n",
      "q4 : -X--------Y-------\n",
      "\n",
      "T  : |   0    | 1 |2|3|\n",
      "\n",
      "Total circuit depth: 4\n",
      "Number of qubits: 5\n",
      "Circuit size: 20\n"
     ]
    }
   ],
   "source": [
    "# add instruction to circuit\n",
    "gate_instr = Instruction(Gate.CNot(), [0, 1])\n",
    "my_circuit = my_circuit.add_instruction(gate_instr)\n",
    "# get circuit depth\n",
    "circuit_depth = my_circuit.depth\n",
    "# get qubit number\n",
    "qubit_count = my_circuit.qubit_count\n",
    "# get circuit size\n",
    "circuit_size = circuit_depth*qubit_count\n",
    "# print circuit\n",
    "print(my_circuit)\n",
    "print()\n",
    "print('Total circuit depth:', circuit_depth)\n",
    "print('Number of qubits:', qubit_count)\n",
    "print('Circuit size:', circuit_size)"
   ]
  },
  {
   "cell_type": "code",
   "execution_count": 104,
   "id": "3b3f3f89-3d41-4b51-91c7-643ec2460a2a",
   "metadata": {
    "tags": []
   },
   "outputs": [
    {
     "name": "stdout",
     "output_type": "stream",
     "text": [
      "T  : |   0    | 1 |2|3|4|\n",
      "                         \n",
      "q0 : -Rx(0.15)-C---C-C-C-\n",
      "               |   | | | \n",
      "q1 : -Ry(0.20)-|-C-X-X-X-\n",
      "               | |       \n",
      "q2 : -Rz(0.25)-X-|-------\n",
      "                 |       \n",
      "q3 : -H----------X-------\n",
      "                         \n",
      "q4 : -X--------Y---------\n",
      "\n",
      "T  : |   0    | 1 |2|3|4|\n",
      "\n",
      "Total circuit depth: 5\n",
      "Number of qubits: 5\n",
      "Circuit size: 25\n"
     ]
    }
   ],
   "source": [
    "# add instruction to circuit\n",
    "gate_instr = Instruction(Gate.CNot(), [0, 1])\n",
    "my_circuit = my_circuit.add_instruction(gate_instr)\n",
    "# get circuit depth\n",
    "circuit_depth = my_circuit.depth\n",
    "# get qubit number\n",
    "qubit_count = my_circuit.qubit_count\n",
    "# get circuit size\n",
    "circuit_size = circuit_depth*qubit_count\n",
    "# print circuit\n",
    "print(my_circuit)\n",
    "print()\n",
    "print('Total circuit depth:', circuit_depth)\n",
    "print('Number of qubits:', qubit_count)\n",
    "print('Circuit size:', circuit_size)"
   ]
  },
  {
   "cell_type": "code",
   "execution_count": 105,
   "id": "783a34e6-f7f6-478b-8af8-ee7309626a7c",
   "metadata": {},
   "outputs": [],
   "source": [
    "#WE CAN APPEND TWO CIRCUITS WITH add_function()"
   ]
  },
  {
   "cell_type": "code",
   "execution_count": 106,
   "id": "15cedae2-9751-441e-9ab1-1531acc30331",
   "metadata": {
    "tags": []
   },
   "outputs": [
    {
     "name": "stdout",
     "output_type": "stream",
     "text": [
      "T  : |   0    | 1 |   2    |3|4|   5    |\n",
      "                                         \n",
      "q0 : -Rx(0.15)-C---C--------C-C-Rz(0.10)-\n",
      "               |   |        | |          \n",
      "q1 : -Ry(0.20)-|-C-X--------X-X-Rz(0.20)-\n",
      "               | |                       \n",
      "q2 : -Rz(0.25)-X-|-----------------------\n",
      "                 |                       \n",
      "q3 : -H----------X-Rz(0.30)--------------\n",
      "                                         \n",
      "q4 : -X--------Y---Rx(0.40)--------------\n",
      "\n",
      "T  : |   0    | 1 |   2    |3|4|   5    |\n",
      "\n",
      "Total circuit depth: 6\n",
      "Number of qubits: 5\n",
      "Circuit size: 30\n"
     ]
    }
   ],
   "source": [
    "#appending two circuits with add_circuit() functionality \n",
    "my_circuit2= Circuit().rz(0,0.1).rz(1,0.2).rz(3,0.3).rx(4,0.4)\n",
    "my_circuit.add_circuit(my_circuit2)\n",
    "\n",
    "# get circuit depth\n",
    "circuit_depth = my_circuit.depth\n",
    "# get qubit number\n",
    "qubit_count = my_circuit.qubit_count\n",
    "# get circuit size\n",
    "circuit_size = circuit_depth*qubit_count\n",
    "# print circuit\n",
    "print(my_circuit)\n",
    "print()\n",
    "# print characteristics of our circuit\n",
    "print('Total circuit depth:', circuit_depth)\n",
    "print('Number of qubits:', qubit_count)\n",
    "print('Circuit size:', circuit_size)"
   ]
  },
  {
   "cell_type": "code",
   "execution_count": 107,
   "id": "bc3ba376-4ba7-493a-b709-00d0340a5167",
   "metadata": {
    "tags": []
   },
   "outputs": [],
   "source": [
    "## CIRCUIT EXECUTION AND QUANTUM TASK TRACKING\n",
    "\n",
    "# Create the device. The experiment value must be unique among any devices in use at the tim\n",
    "device = AwsDevice(\"arn:aws:braket:::device/quantum-simulator/amazon/sv1\")\n",
    "\n",
    "# set up the device to be the Rigetti quantum computer\n",
    "# device = AwsDevice(\"arn:aws:braket:us-west-1::device/qpu/rigetti/Aspen-M-3\")\n",
    "\n",
    "# set up the device to be the IonQ quantum computer\n",
    "# device = AwsDevice(\"arn:aws:braket:us-east-1::device/qpu/ionq/Harmony\")\n",
    "\n",
    "# set up the device to be the Oxford Quantum Circuits (OQC) quantum computer\n",
    "# device = AwsDevice(\"arn:aws:braket:eu-west-2::device/qpu/oqc/Lucy\")\n",
    "\n"
   ]
  },
  {
   "cell_type": "code",
   "execution_count": 108,
   "id": "5c26587f-e21b-4b71-84af-487667f1c3ce",
   "metadata": {},
   "outputs": [],
   "source": [
    "#CHECKING THE SET OF GATES THE DEVICE SUPPORTS\n"
   ]
  },
  {
   "cell_type": "code",
   "execution_count": 109,
   "id": "e971b4da-3a90-4f21-b644-610208ce76bb",
   "metadata": {
    "tags": []
   },
   "outputs": [
    {
     "name": "stdout",
     "output_type": "stream",
     "text": [
      "The Quantum Gates supported by this device are:\t \n",
      " ['ccnot', 'cnot', 'cphaseshift', 'cphaseshift00', 'cphaseshift01', 'cphaseshift10', 'cswap', 'cy', 'cz', 'ecr', 'h', 'i', 'iswap', 'pswap', 'phaseshift', 'rx', 'ry', 'rz', 's', 'si', 'swap', 't', 'ti', 'unitary', 'v', 'vi', 'x', 'xx', 'xy', 'y', 'yy', 'z', 'zz']\n"
     ]
    }
   ],
   "source": [
    "#showing the properties of device\n",
    "device_properties = device.properties\n",
    "\n",
    "#to show supportedQuantumOperations ( supported gates for a device)\n",
    "device_operations = device_properties.dict()['action']['braket.ir.jaqcd.program']['supportedOperations']\n",
    "\n",
    "#This field also exists for other devices like QPUs\n",
    "print('The Quantum Gates supported by this device are:\\t \\n',device_operations)"
   ]
  },
  {
   "cell_type": "code",
   "execution_count": 110,
   "id": "75404ba6-3d31-4fca-8855-e7642827a2c2",
   "metadata": {},
   "outputs": [
    {
     "data": {
      "text/plain": [
       "'POLLING PARAMETERS: With the run(...) method we can set two important parameters:\\n•\\tpoll_timeout_seconds is the number of seconds you want to wait and poll the task before it times out; the default value is 5 days (that is ∼5∗60∗60∗24∼5∗60∗60∗24 seconds).\\n•\\tpoll_interval_seconds is the frequency how often the task is polled, e.g., how often you call the Braket API to get the status; the default value is 1 second.'"
      ]
     },
     "execution_count": 110,
     "metadata": {},
     "output_type": "execute_result"
    }
   ],
   "source": [
    "'''POLLING PARAMETERS: With the run(...) method we can set two important parameters:\n",
    "•\tpoll_timeout_seconds is the number of seconds you want to wait and poll the task before it times out; the default value is 5 days (that is ∼5∗60∗60∗24∼5∗60∗60∗24 seconds).\n",
    "•\tpoll_interval_seconds is the frequency how often the task is polled, e.g., how often you call the Braket API to get the status; the default value is 1 second.'''\n"
   ]
  },
  {
   "cell_type": "code",
   "execution_count": 111,
   "id": "0238c18c-3d4a-4cd3-8ed2-4b35c1a6531e",
   "metadata": {
    "tags": []
   },
   "outputs": [
    {
     "name": "stdout",
     "output_type": "stream",
     "text": [
      "ID of quantum task: arn:aws:braket:us-east-1:666089549503:quantum-task/7a19c6b0-cbbc-477f-8e9b-fcb720eed033\n",
      "Status of quantum task: CREATED\n",
      "Status: CREATED\n",
      "Status: CREATED\n",
      "Status: CREATED\n",
      "Status: CREATED\n",
      "Status: QUEUED\n",
      "Status: QUEUED\n",
      "Status: QUEUED\n",
      "Status: RUNNING\n",
      "Status: RUNNING\n",
      "Status: RUNNING\n",
      "Status: RUNNING\n",
      "Status: RUNNING\n",
      "Status: RUNNING\n",
      "Status: RUNNING\n",
      "Status: RUNNING\n",
      "Status: RUNNING\n",
      "Status: COMPLETED\n",
      "Counter({'00010': 500, '00000': 448, '00001': 18, '00011': 18, '01000': 5, '11110': 4, '11100': 4, '01010': 3})\n"
     ]
    },
    {
     "data": {
      "image/png": "[encoded data removed]",
      "text/plain": [
       "<Figure size 640x480 with 1 Axes>"
      ]
     },
     "metadata": {},
     "output_type": "display_data"
    }
   ],
   "source": [
    "#defining the quantum task(asynchronous)\n",
    "task = device.run(my_circuit,poll_timeout_seconds = 100, shots=1000)\n",
    "\n",
    "#get id and status of submitted quantum task\n",
    "task_id = task.id \n",
    "status = task.state()\n",
    "print('ID of quantum task:', task_id)\n",
    "print('Status of quantum task:', status)\n",
    "\n",
    "#waiting for the job to complete\n",
    "while status != 'COMPLETED':\n",
    "    status = task.state()\n",
    "    print('Status:',status)\n",
    "\n",
    "#getting results of quantum task\n",
    "result = task.result()\n",
    "\n",
    "#get measurement shots\n",
    "counts = result.measurement_counts\n",
    "\n",
    "#printing counts \n",
    "print(counts)\n",
    "\n",
    "#plot using counter\n",
    "plt.bar(counts.keys(),counts.values());\n",
    "plt.xlabel('bitstrings');\n",
    "plt.ylabel('counts');"
   ]
  },
  {
   "cell_type": "code",
   "execution_count": 112,
   "id": "2af047ea-2545-4a50-803c-26a44a30cdcd",
   "metadata": {},
   "outputs": [
    {
     "data": {
      "text/plain": [
       "'The on-demand simulators SV1 and DM1 also support \\nrunning parametrized tasks. The value of any free parameters can be fixed when \\nthe circuit is run using the optional `inputs` argument to `run`. `inputs` should be \\na `dict` of `string`-`float` pairs.'"
      ]
     },
     "execution_count": 112,
     "metadata": {},
     "output_type": "execute_result"
    }
   ],
   "source": [
    "'''The on-demand simulators SV1 and DM1 also support \n",
    "running parametrized tasks. The value of any free parameters can be fixed when \n",
    "the circuit is run using the optional `inputs` argument to `run`. `inputs` should be \n",
    "a `dict` of `string`-`float` pairs.'''"
   ]
  },
  {
   "cell_type": "code",
   "execution_count": 113,
   "id": "2d623fc3-85b0-49f8-8478-f550d35191ec",
   "metadata": {
    "tags": []
   },
   "outputs": [
    {
     "name": "stdout",
     "output_type": "stream",
     "text": [
      "T  : |    0    | 1 |2|\n",
      "                      \n",
      "q0 : -Rx(alpha)-C-----\n",
      "                |     \n",
      "q1 : -Ry(beta)--|-C-X-\n",
      "                | |   \n",
      "q2 : -Rz(gamma)-X-|---\n",
      "                  |   \n",
      "q3 : -H-----------X-X-\n",
      "\n",
      "T  : |    0    | 1 |2|\n",
      "\n",
      "Unassigned parameters: [alpha, beta, gamma].\n",
      "Status of quantum task: CREATED\n",
      "Status: CREATED\n",
      "Status: CREATED\n",
      "Status: CREATED\n",
      "Status: CREATED\n",
      "Status: CREATED\n",
      "Status: CREATED\n",
      "Status: QUEUED\n",
      "Status: QUEUED\n",
      "Status: QUEUED\n",
      "Status: QUEUED\n",
      "Status: QUEUED\n",
      "Status: RUNNING\n",
      "Status: RUNNING\n",
      "Status: RUNNING\n",
      "Status: RUNNING\n",
      "Status: RUNNING\n",
      "Status: RUNNING\n",
      "Status: RUNNING\n",
      "Status: RUNNING\n",
      "Status: COMPLETED\n",
      "Counter({'0101': 500, '0100': 487, '0001': 8, '0000': 3, '1111': 1, '1110': 1})\n"
     ]
    },
    {
     "data": {
      "image/png": "[encoded data removed]",
      "text/plain": [
       "<Figure size 640x480 with 1 Axes>"
      ]
     },
     "metadata": {},
     "output_type": "display_data"
    }
   ],
   "source": [
    "#Defining circuit with some parametrized gates and free parameters\n",
    "alpha = FreeParameter('alpha')\n",
    "beta = FreeParameter('beta')\n",
    "gamma = FreeParameter('gamma')\n",
    "my_circuit = Circuit().rx(0, alpha).ry(1, beta).rz(2, gamma).h(3).cnot(control=0, target=2).cnot(1, 3).x([1,3])\n",
    "print(my_circuit)\n",
    "# define quantum task (asynchronous)\n",
    "task = device.run(my_circuit, \n",
    "                  poll_timeout_seconds = 100, \n",
    "                  shots=1000, inputs={'alpha': 0.1, 'beta': 0.2, 'gamma': 0.3})\n",
    "\n",
    "# get id and status of submitted quantum task\n",
    "task_id = task.id\n",
    "status = task.state()\n",
    "# print('ID of quantum task:', task_id)\n",
    "print('Status of quantum task:', status)\n",
    "\n",
    "# wait for job to complete\n",
    "while status != 'COMPLETED':\n",
    "    status = task.state()\n",
    "    print('Status:', status)\n",
    "\n",
    "# get results of task\n",
    "result = task.result()\n",
    "\n",
    "# get measurement shots\n",
    "counts = result.measurement_counts\n",
    "\n",
    "# print counts\n",
    "print(counts)\n",
    "\n",
    "# plot using Counter\n",
    "plt.bar(counts.keys(), counts.values());\n",
    "plt.xlabel('bitstrings');\n",
    "plt.ylabel('counts');"
   ]
  },
  {
   "cell_type": "code",
   "execution_count": 135,
   "id": "6b17ddff-7f56-4be9-864f-a5b377686d8a",
   "metadata": {},
   "outputs": [
    {
     "data": {
      "text/plain": [
       "'TASK METADATA: You can access a range of metadata associated with your task object, as shown below.'"
      ]
     },
     "execution_count": 135,
     "metadata": {},
     "output_type": "execute_result"
    }
   ],
   "source": [
    "'''TASK METADATA: You can access a range of metadata associated with your task object, as shown below.'''"
   ]
  },
  {
   "cell_type": "code",
   "execution_count": 115,
   "id": "03b5324d-8b7f-4df4-be12-e91533abce3e",
   "metadata": {
    "tags": []
   },
   "outputs": [
    {
     "name": "stdout",
     "output_type": "stream",
     "text": [
      "shots 1000\n",
      "date Thu, 05 Oct 2023 05:12:13 GMT\n",
      "1000 shots taken on Thu, 05 Oct 2023 05:12:13 GMT \n"
     ]
    }
   ],
   "source": [
    "#Getting metadata of all submitted quantum-task\n",
    "metadata = task.metadata()\n",
    "# metadata example\n",
    "shots = metadata['shots']\n",
    "date = metadata['ResponseMetadata']['HTTPHeaders']['date']\n",
    "print(\"shots\" , shots)\n",
    "print(\"date\", date)\n",
    "# print example metadata\n",
    "print(\"{} shots taken on {} \".format(shots,date))"
   ]
  },
  {
   "cell_type": "code",
   "execution_count": 116,
   "id": "ae50c4b8-2066-4c30-b5cd-57766622fc46",
   "metadata": {},
   "outputs": [
    {
     "data": {
      "text/plain": [
       "'  TASK RECONSTRUCTION \\n When kernel dies after you have submitted the task, \\n or you simply close your notebook. As recovery method, here \\n is how you can reconstruct the ```task``` object (given the corresponding unique arn). \\n You can reconstruct the ```task``` object using `\\n task = AwsQuantumTask(arn=...)`; then you can simply call `task.result()` to get \\n the result from S3. '"
      ]
     },
     "execution_count": 116,
     "metadata": {},
     "output_type": "execute_result"
    }
   ],
   "source": [
    "                                  '''  TASK RECONSTRUCTION \n",
    " When kernel dies after you have submitted the task, \n",
    " or you simply close your notebook. As recovery method, here \n",
    " is how you can reconstruct the ```task``` object (given the corresponding unique arn). \n",
    " You can reconstruct the ```task``` object using `\n",
    " task = AwsQuantumTask(arn=...)`; then you can simply call `task.result()` to get \n",
    " the result from S3. '''\n",
    "  \n"
   ]
  },
  {
   "cell_type": "code",
   "execution_count": 117,
   "id": "0398e40a-26e0-43d5-998c-d9b2f8cc506a",
   "metadata": {
    "tags": []
   },
   "outputs": [
    {
     "name": "stdout",
     "output_type": "stream",
     "text": [
      "Status of (reconstructed) quantum task: COMPLETED\n"
     ]
    }
   ],
   "source": [
    "# Restoring quantum task from unique arn \n",
    "task_load = AwsQuantumTask(arn = task_id)\n",
    "#print status\n",
    "status = task_load.state()\n",
    "print('Status of (reconstructed) quantum task:', status)"
   ]
  },
  {
   "cell_type": "code",
   "execution_count": 118,
   "id": "61c8c0e3-98a9-4156-9842-8f25c3e7eb05",
   "metadata": {
    "tags": []
   },
   "outputs": [
    {
     "name": "stdout",
     "output_type": "stream",
     "text": [
      "Counter({'0101': 500, '0100': 487, '0001': 8, '0000': 3, '1111': 1, '1110': 1})\n"
     ]
    },
    {
     "data": {
      "image/png": "[encoded data removed]",
      "text/plain": [
       "<Figure size 640x480 with 1 Axes>"
      ]
     },
     "metadata": {},
     "output_type": "display_data"
    }
   ],
   "source": [
    "#getting result of quantum task\n",
    "result = task_load.result()\n",
    "\n",
    "\n",
    "#to get measurement shors\n",
    "shots = result.measurement_counts\n",
    "\n",
    "#to print counts\n",
    "print(counts)\n",
    "\n",
    "#plot using counter\n",
    "plt.bar(counts.keys(),counts.values(),color='r');\n",
    "plt.xlabel('bitstrings');\n",
    "plt.ylabel('counts');"
   ]
  },
  {
   "cell_type": "code",
   "execution_count": 119,
   "id": "6b48e29a-e4ed-4a96-a35d-6618b3c7a8b7",
   "metadata": {},
   "outputs": [
    {
     "data": {
      "text/plain": [
       "' Using cancel()  method to cancel the existing task '"
      ]
     },
     "execution_count": 119,
     "metadata": {},
     "output_type": "execute_result"
    }
   ],
   "source": [
    "''' Using cancel()  method to cancel the existing task '''\n"
   ]
  },
  {
   "cell_type": "code",
   "execution_count": 120,
   "id": "b2991427-8997-4b61-a8d8-3511700f04bc",
   "metadata": {
    "tags": []
   },
   "outputs": [
    {
     "name": "stdout",
     "output_type": "stream",
     "text": [
      "ID of quantum task :  arn:aws:braket:us-east-1:666089549503:quantum-task/c2545ca2-19d1-4f65-bca3-5192848d9502\n",
      "status of quantum task :  CREATED\n",
      "status of quantum task : CANCELLING\n"
     ]
    }
   ],
   "source": [
    "# defining quantum task \n",
    "task = device.run(my_circuit, shots=1000,inputs = {'alpha':0.1, 'beta':0.2,'gamma': 0.3})\n",
    "\n",
    "#to get id and status of quantum task \n",
    "task_id = task.id\n",
    "status = task.state()\n",
    "\n",
    "print (\"ID of quantum task : \" , task_id )\n",
    "print(\"status of quantum task : \",status) \n",
    "#cancelling the task \n",
    "task.cancel()\n",
    "status = task.state()\n",
    "print('status of quantum task :',status)"
   ]
  },
  {
   "cell_type": "code",
   "execution_count": 121,
   "id": "2363ea61-d3f9-4662-a775-f25856fcf755",
   "metadata": {},
   "outputs": [
    {
     "data": {
      "text/plain": [
       "'DEMONSTRATION OF RESULT TYPES: Expectation Values and Observables'"
      ]
     },
     "execution_count": 121,
     "metadata": {},
     "output_type": "execute_result"
    }
   ],
   "source": [
    "'''DEMONSTRATION OF RESULT TYPES: Expectation Values and Observables'''"
   ]
  },
  {
   "cell_type": "code",
   "execution_count": 122,
   "id": "610674d3-674b-4396-9037-b5716f6d3ec5",
   "metadata": {},
   "outputs": [
    {
     "data": {
      "text/plain": [
       "'So far, we have only taken measurements in the computational basis. However, \\nit is also possible to measure in other bases, as well as estimate important statistics \\nlike expectation value and variance. We do this by adding ResultTypes to our circuit; in the \\nfollowing example, we will make measurements in the basis of the observable  𝑋0𝑌1\\n  (this is the tensor product  𝑋(0)⊗𝑌(1)):'"
      ]
     },
     "execution_count": 122,
     "metadata": {},
     "output_type": "execute_result"
    }
   ],
   "source": [
    "'''So far, we have only taken measurements in the computational basis. However, \n",
    "it is also possible to measure in other bases, as well as estimate important statistics \n",
    "like expectation value and variance. We do this by adding ResultTypes to our circuit; in the \n",
    "following example, we will make measurements in the basis of the observable  𝑋0𝑌1\n",
    "  (this is the tensor product  𝑋(0)⊗𝑌(1)):'''"
   ]
  },
  {
   "cell_type": "code",
   "execution_count": 123,
   "id": "76b870de-3dd5-4ae6-9b19-e311e07fe33c",
   "metadata": {
    "tags": []
   },
   "outputs": [
    {
     "name": "stdout",
     "output_type": "stream",
     "text": [
      "T  : |   0    | 1 |               Result Types               |\n",
      "                                                              \n",
      "q0 : -Rx(0.15)-C---Expectation(X@Y)-Variance(X@Y)-Sample(X@Y)-\n",
      "               |   |                |             |           \n",
      "q1 : -Ry(0.20)-|-C-Expectation(X@Y)-Variance(X@Y)-Sample(X@Y)-\n",
      "               | |                                            \n",
      "q2 : -Rz(0.25)-X-|--------------------------------------------\n",
      "                 |                                            \n",
      "q3 : -H----------X--------------------------------------------\n",
      "                                                              \n",
      "q4 : -X-------------------------------------------------------\n",
      "\n",
      "T  : |   0    | 1 |               Result Types               |\n"
     ]
    }
   ],
   "source": [
    "#defining example circuit\n",
    "circ = Circuit().rx(0,0.15).ry(1,0.2).rz(2,0.25).h(3).cnot(0,2).cnot(1,3).x(4)\n",
    "#adding expectation value\n",
    "obs = Observable.X() @ Observable.Y()\n",
    "target_qubits = [0,1]\n",
    "circ.expectation(obs , target = target_qubits)\n",
    "# adding variance\n",
    "circ.variance(obs , target= target_qubits)\n",
    "#adding sample\n",
    "\n",
    "circ.sample(obs, target = target_qubits)\n",
    "print(circ)\n"
   ]
  },
  {
   "cell_type": "code",
   "execution_count": 137,
   "id": "ab214fa8-52dd-44e2-b84b-f0f329ab44e9",
   "metadata": {},
   "outputs": [
    {
     "data": {
      "text/plain": [
       "'Sample is only valid when shots>0\\n\\nAs shown above, results types are part of the print information. \\nWe now run this circuit on the local simulator above and output these results.'"
      ]
     },
     "execution_count": 137,
     "metadata": {},
     "output_type": "execute_result"
    }
   ],
   "source": [
    "'''Sample is only valid when shots>0\n",
    "\n",
    "As shown above, results types are part of the print information. \n",
    "We now run this circuit on the local simulator above and output these results.'''"
   ]
  },
  {
   "cell_type": "code",
   "execution_count": 125,
   "id": "6f7ab78a-2b9c-487c-a549-bb0acda7a654",
   "metadata": {},
   "outputs": [
    {
     "name": "stdout",
     "output_type": "stream",
     "text": [
      "Expectation value for <X0*Y1>: 0.08\n",
      "Variance for <X0*Y1>: 0.9935999999999998\n",
      "Measurement samples for X0*Y1 : [-1. -1.  1. -1. -1. -1.  1. -1. -1.  1. -1.  1. -1. -1.  1.  1.  1.  1.\n",
      " -1.  1.  1.  1.  1. -1. -1. -1.  1.  1.  1.  1. -1.  1.  1.  1.  1.  1.\n",
      " -1.  1. -1.  1. -1.  1.  1. -1.  1.  1.  1. -1.  1.  1.  1. -1.  1.  1.\n",
      "  1.  1. -1. -1. -1. -1.  1.  1. -1. -1. -1.  1.  1.  1. -1.  1.  1.  1.\n",
      "  1.  1. -1. -1. -1. -1.  1. -1. -1. -1. -1. -1.  1.  1. -1. -1.  1. -1.\n",
      " -1.  1. -1.  1. -1.  1.  1.  1. -1. -1.]\n"
     ]
    }
   ],
   "source": [
    "#setting up device\n",
    "device = LocalSimulator()\n",
    "#run the circuit and output the results specified above\n",
    "task = device.run(circ,shots  = 100)\n",
    "result = task.result()\n",
    "print(\"Expectation value for <X0*Y1>:\", result.values[0])\n",
    "print(\"Variance for <X0*Y1>:\", result.values[1])\n",
    "print(\"Measurement samples for X0*Y1 :\",result.values[2])"
   ]
  },
  {
   "cell_type": "code",
   "execution_count": 138,
   "id": "ef7ee84d-0561-476e-98dc-90304de78791",
   "metadata": {},
   "outputs": [
    {
     "data": {
      "text/plain": [
       "' TO VERIFY THAT WE GET THE SAME \\nESTIMATE FOR THE EXPECTATION VALUE IF WE COMPUTE IT BY HAND FROM THE SAMPLES'"
      ]
     },
     "execution_count": 138,
     "metadata": {},
     "output_type": "execute_result"
    }
   ],
   "source": [
    "''' TO VERIFY THAT WE GET THE SAME \n",
    "ESTIMATE FOR THE EXPECTATION VALUE IF WE COMPUTE IT BY HAND FROM THE SAMPLES'''"
   ]
  },
  {
   "cell_type": "code",
   "execution_count": 127,
   "id": "e2c6d534-87c1-4a99-8cfa-7b9e1e15fc78",
   "metadata": {
    "tags": []
   },
   "outputs": [
    {
     "name": "stdout",
     "output_type": "stream",
     "text": [
      "Expectation value from samples : 0.08\n"
     ]
    }
   ],
   "source": [
    "samples = result.values[2]\n",
    "sum_of_samples = samples.sum()\n",
    "total_counts = len(samples)\n",
    "expect_from_samples = sum_of_samples / total_counts\n",
    "print('Expectation value from samples :', expect_from_samples)"
   ]
  },
  {
   "cell_type": "code",
   "execution_count": 129,
   "id": "fafff175-dd10-487a-a1d5-57e6a4138123",
   "metadata": {},
   "outputs": [
    {
     "data": {
      "text/plain": [
       "'So far, we have measured only one observable, namely  𝑋0𝑌1\\n . However, it is possible to measure multiple observables at once, provided that any observables with overlapping qubits have the same factor acting on each qubit:'"
      ]
     },
     "execution_count": 129,
     "metadata": {},
     "output_type": "execute_result"
    }
   ],
   "source": [
    "'''So far, we have measured only one observable, namely  𝑋0𝑌1\n",
    " . However, it is possible to measure multiple observables at once, provided that any observables with overlapping qubits have the same factor acting on each qubit:'''"
   ]
  },
  {
   "cell_type": "code",
   "execution_count": 132,
   "id": "95c58387-4e2b-4949-91e8-f38810f2c237",
   "metadata": {},
   "outputs": [
    {
     "name": "stdout",
     "output_type": "stream",
     "text": [
      "T  : |   0    | 1 |           Result Types            |\n",
      "                                                       \n",
      "q0 : -Rx(0.15)-C---Expectation(X@Y)--------------------\n",
      "               |   |                                   \n",
      "q1 : -Ry(0.20)-|-C-Expectation(X@Y)-Expectation(Y@X@H)-\n",
      "               | |                  |                  \n",
      "q2 : -Rz(0.25)-X-|-Expectation(Z@H)-|------------------\n",
      "                 | |                |                  \n",
      "q3 : -H----------X-|----------------Expectation(Y@X@H)-\n",
      "                   |                |                  \n",
      "q4 : -X------------Expectation(Z@H)-Expectation(Y@X@H)-\n",
      "\n",
      "T  : |   0    | 1 |           Result Types            |\n",
      "EXPECTATION VALUE FOR <X0*Y1>:  -0.04\n",
      "EXPECTATION VALUE FOR <Z2*H4>:  -0.71\n",
      "Expectation value for <Y1*X3*H4>::  0.062\n"
     ]
    }
   ],
   "source": [
    "circ = Circuit().rx(0,0.15).ry(1,0.2).rz(2,0.25).h(3).cnot(0,2).cnot(1,3).x(4)\n",
    "circ.expectation(Observable.X() @ Observable.Y(), target=[0,1])\n",
    "circ.expectation(Observable.Z() @ Observable.H(), target =[2,4])\n",
    "# Overlaps on qubits 1 and 4, but Y and H are the same factors \n",
    "#that have been applied to each, respectively\n",
    "circ.expectation(Observable.Y() @ Observable.X() @ Observable.H(), target=[1,3,4])\n",
    "\n",
    "print(circ)\n",
    "#run circuit\n",
    "task = device.run(circ, shots = 1000)\n",
    "result = task.result()\n",
    "print('EXPECTATION VALUE FOR <X0*Y1>: ' ,result.values[0])\n",
    "print('EXPECTATION VALUE FOR <Z2*H4>: ' ,result.values[1])\n",
    "print(\"Expectation value for <Y1*X3*H4>:: \",result.values[2])"
   ]
  },
  {
   "cell_type": "code",
   "execution_count": 133,
   "id": "2e5d20c6-a5c5-42f5-b4ab-dea5dd4b59f1",
   "metadata": {},
   "outputs": [
    {
     "data": {
      "text/plain": [
       "' This is possible because we only need to measure in at most one basis \\nfor each qubit. For instance in the example above, on qubit 1 we only measure in the Y basis. '"
      ]
     },
     "execution_count": 133,
     "metadata": {},
     "output_type": "execute_result"
    }
   ],
   "source": [
    "''' This is possible because we only need to measure in at most one basis \n",
    "for each qubit. For instance in the example above, on qubit 1 we only measure in the Y basis. '''"
   ]
  },
  {
   "cell_type": "code",
   "execution_count": 134,
   "id": "7bafe405-1025-4210-9b42-4c6cb67cc39e",
   "metadata": {},
   "outputs": [
    {
     "data": {
      "text/plain": [
       "'In all examples discussed so far we have set the parameter shots>0, thereby \\nmimicking the behavior of actual quantum hardware. However, on a classical \\nsimulator we do have access to the full state vector when shots=0. \\nWe will illustrate this functionality in more detail in this section. '"
      ]
     },
     "execution_count": 134,
     "metadata": {},
     "output_type": "execute_result"
    }
   ],
   "source": [
    "'''In all examples discussed so far we have set the parameter shots>0, thereby \n",
    "mimicking the behavior of actual quantum hardware. However, on a classical \n",
    "simulator we do have access to the full state vector when shots=0. \n",
    "We will illustrate this functionality in more detail in this section. '''"
   ]
  },
  {
   "cell_type": "code",
   "execution_count": null,
   "id": "213c618c-5d60-495b-a9dc-ec499ff10fe2",
   "metadata": {},
   "outputs": [],
   "source": []
  }
 ],
 "metadata": {
  "kernelspec": {
   "display_name": "conda_braket",
   "language": "python",
   "name": "conda_braket"
  },
  "language_info": {
   "codemirror_mode": {
    "name": "ipython",
    "version": 3
   },
   "file_extension": ".py",
   "mimetype": "text/x-python",
   "name": "python",
   "nbconvert_exporter": "python",
   "pygments_lexer": "ipython3",
   "version": "3.10.12"
  }
 },
 "nbformat": 4,
 "nbformat_minor": 5
}
