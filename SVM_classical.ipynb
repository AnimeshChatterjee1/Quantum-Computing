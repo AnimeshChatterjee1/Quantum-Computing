{
  "nbformat": 4,
  "nbformat_minor": 0,
  "metadata": {
    "colab": {
      "provenance": []
    },
    "kernelspec": {
      "name": "python3",
      "display_name": "Python 3"
    },
    "language_info": {
      "name": "python"
    }
  },
  "cells": [
    {
      "cell_type": "code",
      "execution_count": 29,
      "metadata": {
        "id": "8GQ7SyVRLXcg"
      },
      "outputs": [],
      "source": [
        "import pandas as pd\n",
        "import numpy as np\n",
        "import matplotlib.pyplot as plt\n"
      ]
    },
    {
      "cell_type": "code",
      "source": [
        "### row  = record\n",
        "### column = attribute/dimension\n",
        "###target = predicition\n"
      ],
      "metadata": {
        "id": "u5b42_0ZY9ax"
      },
      "execution_count": 30,
      "outputs": []
    },
    {
      "cell_type": "markdown",
      "source": [
        "LOADING DATA FROM CSV FILE"
      ],
      "metadata": {
        "id": "yO-AxmFPiwvD"
      }
    },
    {
      "cell_type": "code",
      "source": [
        "cell_df=pd.read_csv('cell_samples.csv')\n",
        "cell_df.head()\n",
        "cell_df.shape\n",
        "cell_df.size   ##gives size in bytes\n",
        "cell_df.count()  ##column wise count of values avaialable in each column\n",
        "cell_df['Class'].value_counts()"
      ],
      "metadata": {
        "colab": {
          "base_uri": "https://localhost:8080/"
        },
        "id": "naWJy0RZi1eH",
        "outputId": "e7f35678-63e6-41d5-a923-9696394e349a"
      },
      "execution_count": 31,
      "outputs": [
        {
          "output_type": "execute_result",
          "data": {
            "text/plain": [
              "2    458\n",
              "4    241\n",
              "Name: Class, dtype: int64"
            ]
          },
          "metadata": {},
          "execution_count": 31
        }
      ]
    },
    {
      "cell_type": "markdown",
      "source": [
        "DISTRIBUTION OF THE CLASSES"
      ],
      "metadata": {
        "id": "sB1rI3R8o4sy"
      }
    },
    {
      "cell_type": "code",
      "source": [
        " benign_df = cell_df[cell_df['Class']==2][0:200]\n",
        " malignant_df = cell_df[cell_df['Class']==4][0:200]\n",
        "\n",
        "axes = benign_df.plot(kind='scatter',x='Clump',y='UnifSize',color='blue',label='Benign')\n",
        "malignant_df.plot(kind='scatter',x='Clump',y='UnifSize',color='red',label='malignant',ax=axes)"
      ],
      "metadata": {
        "colab": {
          "base_uri": "https://localhost:8080/",
          "height": 466
        },
        "id": "N5MFPhxCo9ap",
        "outputId": "aa19008d-7347-4827-fc33-772dce228387"
      },
      "execution_count": 32,
      "outputs": [
        {
          "output_type": "execute_result",
          "data": {
            "text/plain": [
              "<Axes: xlabel='Clump', ylabel='UnifSize'>"
            ]
          },
          "metadata": {},
          "execution_count": 32
        },
        {
          "output_type": "display_data",
          "data": {
            "text/plain": [
              "<Figure size 640x480 with 1 Axes>"
            ],
            "image/png": "[encoded data removed]"
          },
          "metadata": {}
        }
      ]
    },
    {
      "cell_type": "markdown",
      "source": [
        "IDENTIFYING UNWANTED ROWS"
      ],
      "metadata": {
        "id": "E5n9B6DuevF1"
      }
    },
    {
      "cell_type": "code",
      "source": [
        "cell_df.dtypes\n",
        "cell_df=cell_df[pd.to_numeric(cell_df['BareNuc'],errors='coerce').notnull()]  #coerce means all the values are forcefully converted to numeric type\n",
        "cell_df['BareNuc'] = cell_df['BareNuc'].astype('int')\n",
        "cell_df.dtypes"
      ],
      "metadata": {
        "id": "94FkY-2CqY9w",
        "colab": {
          "base_uri": "https://localhost:8080/"
        },
        "outputId": "ed29fa79-1875-4883-a42d-3b1793e9f977"
      },
      "execution_count": 33,
      "outputs": [
        {
          "output_type": "stream",
          "name": "stderr",
          "text": [
            "<ipython-input-33-fe27ff2cf212>:3: SettingWithCopyWarning: \n",
            "A value is trying to be set on a copy of a slice from a DataFrame.\n",
            "Try using .loc[row_indexer,col_indexer] = value instead\n",
            "\n",
            "See the caveats in the documentation: https://pandas.pydata.org/pandas-docs/stable/user_guide/indexing.html#returning-a-view-versus-a-copy\n",
            "  cell_df['BareNuc'] = cell_df['BareNuc'].astype('int')\n"
          ]
        },
        {
          "output_type": "execute_result",
          "data": {
            "text/plain": [
              "ID             int64\n",
              "Clump          int64\n",
              "UnifSize       int64\n",
              "UnifShape      int64\n",
              "MargAdh        int64\n",
              "SingEpiSize    int64\n",
              "BareNuc        int64\n",
              "BlandChrom     int64\n",
              "NormNucl       int64\n",
              "Mit            int64\n",
              "Class          int64\n",
              "dtype: object"
            ]
          },
          "metadata": {},
          "execution_count": 33
        }
      ]
    },
    {
      "cell_type": "markdown",
      "source": [
        "REMOVE UNWANTED COLUMNS\n"
      ],
      "metadata": {
        "id": "8J7I5ZpWoXVm"
      }
    },
    {
      "cell_type": "code",
      "source": [
        "cell_df.columns\n",
        "feature_df = cell_df[['Clump','UnifSize','UnifShape','MargAdh','SingEpiSize','BareNuc','BlandChrom','NormNucl','Mit']]\n",
        "\n",
        "X= np.asarray(feature_df)\n",
        "\n",
        "#cell of 100 rows and 11 columns  , out of that we are taking only 9 columns and all the rows\n",
        "\n",
        "#Independent Var\n",
        "X= np.asarray(feature_df)\n",
        "\n",
        "#dependent variable\n",
        "y=np.asarray(cell_df['Class'])\n",
        "\n",
        "y[0:5]"
      ],
      "metadata": {
        "colab": {
          "base_uri": "https://localhost:8080/"
        },
        "id": "wjvQAtsKohxN",
        "outputId": "9f9696a7-d5bf-400e-f7bd-5d51dd0886c2"
      },
      "execution_count": 38,
      "outputs": [
        {
          "output_type": "execute_result",
          "data": {
            "text/plain": [
              "array([2, 2, 2, 2, 2])"
            ]
          },
          "metadata": {},
          "execution_count": 38
        }
      ]
    },
    {
      "cell_type": "markdown",
      "source": [
        "DIVIDING THE DATA AND AS TRAIN PART AND TEST PART\n"
      ],
      "metadata": {
        "id": "770gvVr0rISs"
      }
    },
    {
      "cell_type": "code",
      "source": [
        "'''\n",
        "cell_df(100) --> Train(80 rows) / Test (20 rows)\n",
        "\n",
        "Train(x,y)  ## x is a 2d array , y is\n",
        "'''\n",
        "from sklearn.model_selection import train_test_split\n",
        "X_train, X_test, y_train, y_test = train_test_split(X,y,test_size = 0.2,random_state=4)   ##radnom_state = seed value\n",
        "X_train.shape\n",
        "\n",
        "y_train.shape\n",
        "\n",
        "X_test.shape\n",
        "\n",
        "y_test.shape"
      ],
      "metadata": {
        "colab": {
          "base_uri": "https://localhost:8080/"
        },
        "id": "hy9gnzmXr1SC",
        "outputId": "dace0195-1e97-408a-9dca-6d39b18526c4"
      },
      "execution_count": 47,
      "outputs": [
        {
          "output_type": "execute_result",
          "data": {
            "text/plain": [
              "(137,)"
            ]
          },
          "metadata": {},
          "execution_count": 47
        }
      ]
    },
    {
      "cell_type": "code",
      "source": [
        "##MODELLING (SVM and Scikit-learn)\n",
        "from sklearn import svm\n",
        "#gamma = kernel coefficient, c= peanlty cost on incorrect datapoints\n",
        "classifier = svm.SVC(kernel='linear', gamma ='auto',C=2)\n",
        "classifier.fit(X_train,y_train)\n",
        "#predicting output\n",
        "\n",
        "y_predict = classifier.predict(X_test)\n",
        "\n",
        "#y_predict = classes predicted by the system"
      ],
      "metadata": {
        "id": "JWXWM35at_Is"
      },
      "execution_count": 45,
      "outputs": []
    },
    {
      "cell_type": "markdown",
      "source": [
        "Evaluation (Results)"
      ],
      "metadata": {
        "id": "MUmFY55wwRZ5"
      }
    },
    {
      "cell_type": "code",
      "source": [
        "from sklearn.metrics import classification_report\n",
        "\n",
        "print(classification_report(y_test,y_predict))"
      ],
      "metadata": {
        "colab": {
          "base_uri": "https://localhost:8080/"
        },
        "id": "mSe9ImAXwVi-",
        "outputId": "56ccba76-3864-4a3a-bc67-2077f1e27313"
      },
      "execution_count": 46,
      "outputs": [
        {
          "output_type": "stream",
          "name": "stdout",
          "text": [
            "              precision    recall  f1-score   support\n",
            "\n",
            "           2       1.00      0.94      0.97        90\n",
            "           4       0.90      1.00      0.95        47\n",
            "\n",
            "    accuracy                           0.96       137\n",
            "   macro avg       0.95      0.97      0.96       137\n",
            "weighted avg       0.97      0.96      0.96       137\n",
            "\n"
          ]
        }
      ]
    },
    {
      "cell_type": "code",
      "source": [],
      "metadata": {
        "id": "ZJd672lqxS3X"
      },
      "execution_count": null,
      "outputs": []
    }
  ]
}