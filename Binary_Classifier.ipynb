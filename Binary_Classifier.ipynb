{
 "cells": [
  {
   "cell_type": "code",
   "execution_count": 2,
   "id": "207a87c7-f44b-4281-8432-b9a9f0bba121",
   "metadata": {
    "tags": []
   },
   "outputs": [
    {
     "name": "stdout",
     "output_type": "stream",
     "text": [
      "T  : |0|1|\n",
      "          \n",
      "q0 : -X-X-\n",
      "\n",
      "T  : |0|1|\n",
      "T  : |0|1|\n",
      "          \n",
      "q0 : -X-X-\n",
      "          \n",
      "q1 : -X-X-\n",
      "\n",
      "T  : |0|1|\n",
      "T  : |0|1|\n",
      "          \n",
      "q0 : -X-X-\n",
      "          \n",
      "q1 : -X-X-\n",
      "          \n",
      "q3 : -X-X-\n",
      "\n",
      "T  : |0|1|\n",
      "T  : |0|1|\n",
      "          \n",
      "q0 : -X-X-\n",
      "          \n",
      "q1 : -X-X-\n",
      "          \n",
      "q3 : -X-X-\n",
      "\n",
      "T  : |0|1|\n"
     ]
    }
   ],
   "source": [
    "#Importing braket libraries\n",
    "from braket.circuits import Circuit\n",
    "from braket.aws import AwsDevice\n",
    "\n",
    "#function to convert a bit string bitstr into a quantum circuit\n",
    "def bit_string_to_circuit(bitStr):\n",
    "    circuit=Circuit()\n",
    "    for i in range(len(bitStr)):\n",
    "        if bitStr[i]=='1':\n",
    "            circuit.x(i) #applies pauly x gate flips the state of a qubit from |0⟩ to |1⟩ \n",
    "    return circuit\n",
    "\n",
    "#sample variable for testing\n",
    "a ='11010'\n",
    "\n",
    "#prints quantum circuit that prepares corresponding quantum state\n",
    "print(bit_string_to_circuit(a))\n",
    "\n"
   ]
  },
  {
   "cell_type": "code",
   "execution_count": 6,
   "id": "b4a130bd-de69-41be-84d0-eef8397bb579",
   "metadata": {
    "tags": []
   },
   "outputs": [
    {
     "name": "stdout",
     "output_type": "stream",
     "text": [
      "T  : |0|\n",
      "        \n",
      "q0 : -X-\n",
      "        \n",
      "q1 : -X-\n",
      "        \n",
      "q5 : -X-\n",
      "\n",
      "T  : |0|\n"
     ]
    }
   ],
   "source": [
    "#Importing braket libraries\n",
    "from braket.circuits import Circuit\n",
    "from braket.aws import AwsDevice\n",
    "\n",
    "#function to convert a bit string bitstr into a quantum circuit\n",
    "def bit_string_to_circuit(bitStr):\n",
    "    circuit=Circuit()\n",
    "    for i in range(len(bitStr)):\n",
    "        if bitStr[i]=='1':\n",
    "            circuit.x(i) #applies pauly x gate flips the state of a qubit from |0⟩ to |1⟩ \n",
    "    return circuit\n",
    "\n",
    "#sample variable for testing\n",
    "a ='110001'\n",
    "\n",
    "#prints quantum circuit that prepares corresponding quantum state\n",
    "print(bit_string_to_circuit(a))\n",
    "\n",
    "\n"
   ]
  },
  {
   "cell_type": "code",
   "execution_count": null,
   "id": "42aac8e6-ea28-4a46-8b09-65d4b35fe20e",
   "metadata": {},
   "outputs": [],
   "source": []
  }
 ],
 "metadata": {
  "kernelspec": {
   "display_name": "conda_braket",
   "language": "python",
   "name": "conda_braket"
  },
  "language_info": {
   "codemirror_mode": {
    "name": "ipython",
    "version": 3
   },
   "file_extension": ".py",
   "mimetype": "text/x-python",
   "name": "python",
   "nbconvert_exporter": "python",
   "pygments_lexer": "ipython3",
   "version": "3.10.12"
  }
 },
 "nbformat": 4,
 "nbformat_minor": 5
}
